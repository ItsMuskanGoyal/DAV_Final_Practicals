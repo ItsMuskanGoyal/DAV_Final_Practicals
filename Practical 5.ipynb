{
 "cells": [
  {
   "cell_type": "code",
   "execution_count": 4,
   "metadata": {},
   "outputs": [],
   "source": [
    "import numpy as np\n",
    "arr1 = np.random.randint(1,10,10)\n",
    "arr2 = np.random.randint(1,10,10)"
   ]
  },
  {
   "cell_type": "code",
   "execution_count": 5,
   "metadata": {},
   "outputs": [
    {
     "name": "stdout",
     "output_type": "stream",
     "text": [
      "Original array1:\n",
      "[7 6 1 9 8 2 1 2 9 3]\n",
      "Original array2:\n",
      "[8 6 4 3 3 3 2 1 9 4]\n"
     ]
    }
   ],
   "source": [
    "\n",
    "print(\"Original array1:\")\n",
    "print(arr1)\n",
    "print(\"Original array2:\")\n",
    "print(arr2)"
   ]
  },
  {
   "cell_type": "code",
   "execution_count": 6,
   "metadata": {},
   "outputs": [
    {
     "name": "stdout",
     "output_type": "stream",
     "text": [
      "Sum of the first half of both the arrays:\n",
      "55\n",
      "Product of the second half of both the arrays:\n",
      "324\n"
     ]
    }
   ],
   "source": [
    "print(\"Sum of the first half of both the arrays:\")\n",
    "print(np.sum(arr1[:5])+np.sum(arr2[:5]))\n",
    "print(\"Product of the second half of both the arrays:\")\n",
    "print(np.prod(arr1[5:])+np.prod(arr2[5:]))"
   ]
  }
 ],
 "metadata": {
  "kernelspec": {
   "display_name": "Python 3",
   "language": "python",
   "name": "python3"
  },
  "language_info": {
   "codemirror_mode": {
    "name": "ipython",
    "version": 3
   },
   "file_extension": ".py",
   "mimetype": "text/x-python",
   "name": "python",
   "nbconvert_exporter": "python",
   "pygments_lexer": "ipython3",
   "version": "3.10.6"
  }
 },
 "nbformat": 4,
 "nbformat_minor": 2
}
