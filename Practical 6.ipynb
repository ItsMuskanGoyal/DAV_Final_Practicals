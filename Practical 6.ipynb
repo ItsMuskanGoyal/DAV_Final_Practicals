{
 "cells": [
  {
   "cell_type": "code",
   "execution_count": 1,
   "metadata": {},
   "outputs": [],
   "source": [
    "import numpy as np\n",
    "arr = np.random.rand(4,4)"
   ]
  },
  {
   "cell_type": "code",
   "execution_count": 2,
   "metadata": {},
   "outputs": [
    {
     "name": "stdout",
     "output_type": "stream",
     "text": [
      "Original array:\n",
      "[[0.10537584 0.22212124 0.15700531 0.4602863 ]\n",
      " [0.50353771 0.03169854 0.13928517 0.66194737]\n",
      " [0.51018266 0.30854466 0.74824986 0.97740671]\n",
      " [0.46033461 0.62955231 0.74623917 0.36022978]]\n"
     ]
    }
   ],
   "source": [
    "print(\"Original array:\")\n",
    "print(arr)"
   ]
  },
  {
   "cell_type": "code",
   "execution_count": 3,
   "metadata": {},
   "outputs": [
    {
     "name": "stdout",
     "output_type": "stream",
     "text": [
      "Size:  16\n",
      "Memory size of one array element in bytes:  8\n",
      "Memory size of the array in bytes:  128\n"
     ]
    }
   ],
   "source": [
    "print(\"Size: \",arr.size)\n",
    "print(\"Memory size of one array element in bytes: \",arr.itemsize)\n",
    "print(\"Memory size of the array in bytes: \",arr.size*arr.itemsize)"
   ]
  }
 ],
 "metadata": {
  "kernelspec": {
   "display_name": "Python 3",
   "language": "python",
   "name": "python3"
  },
  "language_info": {
   "codemirror_mode": {
    "name": "ipython",
    "version": 3
   },
   "file_extension": ".py",
   "mimetype": "text/x-python",
   "name": "python",
   "nbconvert_exporter": "python",
   "pygments_lexer": "ipython3",
   "version": "3.10.6"
  }
 },
 "nbformat": 4,
 "nbformat_minor": 2
}
