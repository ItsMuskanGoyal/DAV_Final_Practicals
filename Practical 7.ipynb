{
 "cells": [
  {
   "cell_type": "code",
   "execution_count": 1,
   "metadata": {},
   "outputs": [],
   "source": [
    "\n",
    "import numpy as np\n",
    "m = int(input(\"Enter the number of rows: \"))\n",
    "n = int(input(\"Enter the number of columns: \"))\n",
    "arr = np.random.randint(10,100,(m,n))"
   ]
  },
  {
   "cell_type": "code",
   "execution_count": 2,
   "metadata": {},
   "outputs": [
    {
     "name": "stdout",
     "output_type": "stream",
     "text": [
      "Original array:\n",
      "[[96 72 83]\n",
      " [85 40 80]\n",
      " [81 82 74]]\n",
      "Shape of the array:  (3, 3)\n",
      "Type of the array:  <class 'numpy.ndarray'>\n",
      "Data type of the array:  int64\n"
     ]
    }
   ],
   "source": [
    "\n",
    "print(\"Original array:\")\n",
    "print(arr)\n",
    "print(\"Shape of the array: \",arr.shape)\n",
    "print(\"Type of the array: \",type(arr))\n",
    "print(\"Data type of the array: \",arr.dtype)"
   ]
  },
  {
   "cell_type": "code",
   "execution_count": 3,
   "metadata": {},
   "outputs": [
    {
     "name": "stdout",
     "output_type": "stream",
     "text": [
      "Reshaped array:\n",
      "[[96 72 83]\n",
      " [85 40 80]\n",
      " [81 82 74]]\n",
      "Shape of the array:  (3, 3)\n",
      "Type of the array:  <class 'numpy.ndarray'>\n",
      "Data type of the array:  int64\n"
     ]
    }
   ],
   "source": [
    "arr1 = arr.reshape(n,m)\n",
    "print(\"Reshaped array:\")\n",
    "print(arr1)\n",
    "print(\"Shape of the array: \",arr1.shape)\n",
    "print(\"Type of the array: \",type(arr1))\n",
    "print(\"Data type of the array: \",arr1.dtype)"
   ]
  },
  {
   "cell_type": "code",
   "execution_count": 4,
   "metadata": {},
   "outputs": [
    {
     "name": "stdout",
     "output_type": "stream",
     "text": [
      "Copied array:\n",
      "[[96 72 83]\n",
      " [85 40 80]\n",
      " [81 82 74]]\n",
      "Shape of the array:  (3, 3)\n",
      "Type of the array:  <class 'numpy.ndarray'>\n",
      "Data type of the array:  int64\n"
     ]
    }
   ],
   "source": [
    "\n",
    "arr2 = arr1.copy()\n",
    "print(\"Copied array:\")\n",
    "print(arr2)\n",
    "print(\"Shape of the array: \",arr2.shape)\n",
    "print(\"Type of the array: \",type(arr2))\n",
    "print(\"Data type of the array: \",arr2.dtype)"
   ]
  },
  {
   "cell_type": "code",
   "execution_count": 5,
   "metadata": {},
   "outputs": [
    {
     "name": "stdout",
     "output_type": "stream",
     "text": [
      "Swapped array:\n",
      "[[85 40 80]\n",
      " [96 72 83]\n",
      " [81 82 74]]\n",
      "Shape of the array:  (3, 3)\n",
      "Type of the array:  <class 'numpy.ndarray'>\n",
      "Data type of the array:  int64\n"
     ]
    }
   ],
   "source": [
    "\n",
    "arr2[[0,1]] = arr2[[1,0]]\n",
    "print(\"Swapped array:\")\n",
    "print(arr2)\n",
    "print(\"Shape of the array: \",arr2.shape)\n",
    "print(\"Type of the array: \",type(arr2))\n",
    "print(\"Data type of the array: \",arr2.dtype)"
   ]
  },
  {
   "cell_type": "code",
   "execution_count": 6,
   "metadata": {},
   "outputs": [
    {
     "name": "stdout",
     "output_type": "stream",
     "text": [
      "Copied array:\n",
      "[[85 40 80]\n",
      " [96 72 83]\n",
      " [81 82 74]]\n",
      "Shape of the array:  (3, 3)\n",
      "Type of the array:  <class 'numpy.ndarray'>\n",
      "Data type of the array:  int64\n"
     ]
    }
   ],
   "source": [
    "\n",
    "arr3 = arr2.copy()\n",
    "print(\"Copied array:\")\n",
    "print(arr3)\n",
    "print(\"Shape of the array: \",arr3.shape)\n",
    "print(\"Type of the array: \",type(arr3))\n",
    "print(\"Data type of the array: \",arr3.dtype)"
   ]
  },
  {
   "cell_type": "code",
   "execution_count": 7,
   "metadata": {},
   "outputs": [
    {
     "name": "stdout",
     "output_type": "stream",
     "text": [
      "Reversed column array:\n",
      "[[81 40 80]\n",
      " [96 72 83]\n",
      " [85 82 74]]\n",
      "Shape of the array:  (3, 3)\n",
      "Type of the array:  <class 'numpy.ndarray'>\n",
      "Data type of the array:  int64\n"
     ]
    }
   ],
   "source": [
    "\n",
    "arr3[:,0] = arr3[::-1,0]\n",
    "print(\"Reversed column array:\")\n",
    "print(arr3)\n",
    "print(\"Shape of the array: \",arr3.shape)\n",
    "print(\"Type of the array: \",type(arr3))\n",
    "print(\"Data type of the array: \",arr3.dtype)\n"
   ]
  }
 ],
 "metadata": {
  "kernelspec": {
   "display_name": "Python 3",
   "language": "python",
   "name": "python3"
  },
  "language_info": {
   "codemirror_mode": {
    "name": "ipython",
    "version": 3
   },
   "file_extension": ".py",
   "mimetype": "text/x-python",
   "name": "python",
   "nbconvert_exporter": "python",
   "pygments_lexer": "ipython3",
   "version": "3.10.6"
  }
 },
 "nbformat": 4,
 "nbformat_minor": 2
}
