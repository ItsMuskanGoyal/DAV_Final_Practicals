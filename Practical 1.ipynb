{
 "cells": [
  {
   "cell_type": "code",
   "execution_count": 1,
   "metadata": {},
   "outputs": [],
   "source": [
    "import numpy as np\n",
    "arr1 = np.random.rand(4,4)"
   ]
  },
  {
   "cell_type": "code",
   "execution_count": 2,
   "metadata": {},
   "outputs": [
    {
     "name": "stdout",
     "output_type": "stream",
     "text": [
      "Original array:\n",
      "[[0.76524671 0.09815293 0.91904398 0.8683925 ]\n",
      " [0.09312158 0.64310218 0.17523791 0.91182242]\n",
      " [0.04940907 0.81049715 0.27948297 0.86790502]\n",
      " [0.37173365 0.93003802 0.84526993 0.57292217]]\n"
     ]
    }
   ],
   "source": [
    "\n",
    "print(\"Original array:\")\n",
    "print(arr1)"
   ]
  },
  {
   "cell_type": "code",
   "execution_count": 3,
   "metadata": {},
   "outputs": [],
   "source": [
    "n = np.mean(arr1, axis=1)\n",
    "n1 = np.std(arr1, axis=1)\n",
    "n2 = np.var(arr1, axis=1)"
   ]
  },
  {
   "cell_type": "code",
   "execution_count": 4,
   "metadata": {},
   "outputs": [
    {
     "name": "stdout",
     "output_type": "stream",
     "text": [
      "\n",
      "Mean:  [0.66270903 0.45582102 0.50182355 0.67999094]\n",
      "\n",
      "std:  [0.33062474 0.33663381 0.34763818 0.22154399]\n",
      "\n",
      "variance:  [0.10931272 0.11332232 0.12085231 0.04908174]\n"
     ]
    }
   ],
   "source": [
    "print(\"\\nMean: \",n)\n",
    "print(\"\\nstd: \",n1)\n",
    "print(\"\\nvariance: \",n2)"
   ]
  }
 ],
 "metadata": {
  "kernelspec": {
   "display_name": "Python 3",
   "language": "python",
   "name": "python3"
  },
  "language_info": {
   "codemirror_mode": {
    "name": "ipython",
    "version": 3
   },
   "file_extension": ".py",
   "mimetype": "text/x-python",
   "name": "python",
   "nbconvert_exporter": "python",
   "pygments_lexer": "ipython3",
   "version": "3.10.6"
  }
 },
 "nbformat": 4,
 "nbformat_minor": 2
}
