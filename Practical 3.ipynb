{
 "cells": [
  {
   "cell_type": "code",
   "execution_count": 1,
   "metadata": {},
   "outputs": [
    {
     "name": "stdout",
     "output_type": "stream",
     "text": [
      "Original array:\n",
      "[1 2 0 0 4 0]\n"
     ]
    }
   ],
   "source": [
    "import numpy as np\n",
    "arr = np.array([1,2,0,0,4,0])\n",
    "print(\"Original array:\")\n",
    "print(arr)"
   ]
  },
  {
   "cell_type": "code",
   "execution_count": 2,
   "metadata": {},
   "outputs": [
    {
     "name": "stdout",
     "output_type": "stream",
     "text": [
      "Test whether the elements of the said array are zero or not:\n",
      "[False False  True  True False  True]\n",
      "Test whether the elements of the said array are non-zero or not:\n",
      "(array([0, 1, 4]),)\n",
      "Test whether the elements of the said array are NaN or not:\n",
      "[False False False False False False]\n"
     ]
    }
   ],
   "source": [
    "\n",
    "print(\"Test whether the elements of the said array are zero or not:\")\n",
    "print(np.isin(arr,0))\n",
    "print(\"Test whether the elements of the said array are non-zero or not:\")\n",
    "print(np.nonzero(arr))\n",
    "print(\"Test whether the elements of the said array are NaN or not:\")\n",
    "print(np.isnan(arr))"
   ]
  },
  {
   "cell_type": "code",
   "execution_count": 3,
   "metadata": {},
   "outputs": [
    {
     "name": "stdout",
     "output_type": "stream",
     "text": [
      "Indices of non-zero elements of the said array:\n",
      "[0 1 4]\n",
      "Indices of zero elements of the said array:\n",
      "[2 3 5]\n",
      "Indices of NaN elements of the said array:\n",
      "[]\n"
     ]
    }
   ],
   "source": [
    "print(\"Indices of non-zero elements of the said array:\")\n",
    "print(np.nonzero(arr)[0])\n",
    "print(\"Indices of zero elements of the said array:\")\n",
    "print(np.nonzero(arr==0)[0])\n",
    "print(\"Indices of NaN elements of the said array:\")\n",
    "print(np.nonzero(arr!=arr)[0])"
   ]
  }
 ],
 "metadata": {
  "kernelspec": {
   "display_name": "Python 3",
   "language": "python",
   "name": "python3"
  },
  "language_info": {
   "codemirror_mode": {
    "name": "ipython",
    "version": 3
   },
   "file_extension": ".py",
   "mimetype": "text/x-python",
   "name": "python",
   "nbconvert_exporter": "python",
   "pygments_lexer": "ipython3",
   "version": "3.10.6"
  }
 },
 "nbformat": 4,
 "nbformat_minor": 2
}
