{
 "cells": [
  {
   "cell_type": "code",
   "execution_count": 1,
   "metadata": {},
   "outputs": [],
   "source": [
    "\n",
    "import numpy as np\n",
    "m = int(input(\"Enter the number of rows: \"))\n",
    "n = int(input(\"Enter the number of columns: \"))\n",
    "arr = np.random.randint(1,10,(m,n))"
   ]
  },
  {
   "cell_type": "code",
   "execution_count": 2,
   "metadata": {},
   "outputs": [
    {
     "name": "stdout",
     "output_type": "stream",
     "text": [
      "Original array:\n",
      "[[3 5 8]\n",
      " [5 6 9]\n",
      " [7 9 4]]\n"
     ]
    }
   ],
   "source": [
    "print(\"Original array:\")\n",
    "print(arr)"
   ]
  },
  {
   "cell_type": "code",
   "execution_count": 3,
   "metadata": {},
   "outputs": [
    {
     "name": "stdout",
     "output_type": "stream",
     "text": [
      "Shape of the array:  (3, 3)\n",
      "Type of the array:  <class 'numpy.ndarray'>\n",
      "Data type of the array:  int64\n"
     ]
    }
   ],
   "source": [
    "\n",
    "print(\"Shape of the array: \",arr.shape)\n",
    "print(\"Type of the array: \",type(arr))\n",
    "print(\"Data type of the array: \",arr.dtype)"
   ]
  },
  {
   "cell_type": "code",
   "execution_count": 4,
   "metadata": {},
   "outputs": [
    {
     "name": "stdout",
     "output_type": "stream",
     "text": [
      "Reshaped array:\n",
      "[[3 5 8]\n",
      " [5 6 9]\n",
      " [7 9 4]]\n"
     ]
    }
   ],
   "source": [
    "arr1 = arr.reshape(n,m)\n",
    "print(\"Reshaped array:\")\n",
    "print(arr1)"
   ]
  },
  {
   "cell_type": "code",
   "execution_count": 5,
   "metadata": {},
   "outputs": [
    {
     "name": "stdout",
     "output_type": "stream",
     "text": [
      "Shape of the array:  (3, 3)\n",
      "Type of the array:  <class 'numpy.ndarray'>\n",
      "Data type of the array:  int64\n"
     ]
    }
   ],
   "source": [
    "\n",
    "print(\"Shape of the array: \",arr1.shape)\n",
    "print(\"Type of the array: \",type(arr1))\n",
    "print(\"Data type of the array: \",arr1.dtype)"
   ]
  }
 ],
 "metadata": {
  "kernelspec": {
   "display_name": "Python 3",
   "language": "python",
   "name": "python3"
  },
  "language_info": {
   "codemirror_mode": {
    "name": "ipython",
    "version": 3
   },
   "file_extension": ".py",
   "mimetype": "text/x-python",
   "name": "python",
   "nbconvert_exporter": "python",
   "pygments_lexer": "ipython3",
   "version": "3.10.6"
  }
 },
 "nbformat": 4,
 "nbformat_minor": 2
}
